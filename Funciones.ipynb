{
 "cells": [
  {
   "cell_type": "code",
   "execution_count": 1,
   "metadata": {
    "ExecuteTime": {
     "end_time": "2020-04-13T18:57:36.785643Z",
     "start_time": "2020-04-13T18:57:35.900584Z"
    }
   },
   "outputs": [],
   "source": [
    "import numpy as np\n",
    "import matplotlib.pyplot as plt"
   ]
  },
  {
   "cell_type": "code",
   "execution_count": 2,
   "metadata": {
    "ExecuteTime": {
     "end_time": "2020-04-13T18:57:43.359343Z",
     "start_time": "2020-04-13T18:57:43.351934Z"
    }
   },
   "outputs": [],
   "source": [
    "def P_acum_poisson_o(k,l):\n",
    "    Pr = np.zeros(k)\n",
    "    Pr[0] = np.exp(-l)\n",
    "    def pr(i):\n",
    "        nonlocal Pr\n",
    "        Pr[i+1]=l/(i+1)*Pr[i]\n",
    "        \n",
    "    # Lleno el vector Pr usando compresión de listas\n",
    "    [pr(i) for i in range(k-1)]\n",
    "    return np.cumsum(Pr)"
   ]
  },
  {
   "cell_type": "code",
   "execution_count": 3,
   "metadata": {
    "ExecuteTime": {
     "end_time": "2020-04-13T18:57:44.261116Z",
     "start_time": "2020-04-13T18:57:44.253901Z"
    }
   },
   "outputs": [],
   "source": [
    "def Gen_distr_discreta(U, p_acum):\n",
    "    '''Tener en cuenta que este arreglo cuenta números empezando del 0'''\n",
    "    v = np.array(list(map(lambda j:sum(1 for i in p_acum if i<u[j]),range(N))))\n",
    "    return v"
   ]
  },
  {
   "cell_type": "code",
   "execution_count": 4,
   "metadata": {
    "ExecuteTime": {
     "end_time": "2020-04-13T18:57:48.816096Z",
     "start_time": "2020-04-13T18:57:48.806784Z"
    }
   },
   "outputs": [],
   "source": [
    "def plot_histogram_discrete(distribucion,label):\n",
    "\n",
    "    #len(set(distribucion)) cuenta la cantidad de elementos distintos de la variable 'distribucion'\n",
    "    plt.figure(figsize=[8,6])\n",
    "    y,x = np.histogram(distribucion,bins = len(set(distribucion))) \n",
    "    plt.bar(list(set(distribucion)),y/100,label=label, color=c)\n",
    "    plt.legend()\n",
    "    plt.show()"
   ]
  },
  {
   "cell_type": "code",
   "execution_count": null,
   "metadata": {},
   "outputs": [],
   "source": []
  }
 ],
 "metadata": {
  "kernelspec": {
   "display_name": "Python 3",
   "language": "python",
   "name": "python3"
  },
  "language_info": {
   "codemirror_mode": {
    "name": "ipython",
    "version": 3
   },
   "file_extension": ".py",
   "mimetype": "text/x-python",
   "name": "python",
   "nbconvert_exporter": "python",
   "pygments_lexer": "ipython3",
   "version": "3.7.4"
  }
 },
 "nbformat": 4,
 "nbformat_minor": 2
}
