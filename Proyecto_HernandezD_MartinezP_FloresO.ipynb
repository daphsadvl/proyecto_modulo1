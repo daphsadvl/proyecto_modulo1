{
 "cells": [
  {
   "cell_type": "markdown",
   "metadata": {
    "ExecuteTime": {
     "end_time": "2020-03-22T16:28:09.128269Z",
     "start_time": "2020-03-22T16:28:09.124845Z"
    }
   },
   "source": [
    "<img style=\"float: right; margin: auto;\" src=\"https://www.ambulante.org/wp-content/uploads/2019/03/logos_web_Jalisco_ITESOJesuita.png\" width=\"350\" height=\"220\" />\n",
    "    \n",
    "# <span style=\"color:green\">     <font size=\"8\"> A New Business Opportunity\n",
    "\n",
    "\n",
    "<span style=\"color:green\"> <font size=\"4\">  *Simulación de Procesos Financieros: Proyecto I*\n",
    "\n",
    "<b> <p style = \"font-family: Palatino; font-size:2em; color: green;\" > Daphne Hernández | Paloma Martínez | Oscar Flores </p> <b/>"
   ]
  },
  {
   "cell_type": "markdown",
   "metadata": {},
   "source": [
    "<p style = \"font-family: Calibri Light; font-size:1.3em; color:black; text-align: justify\">  Este proyecto se basa en el análisis de datos obtenidos por las ventas de una compañía de productos relacionados con la nutrición, el control de peso, las dietas deportivas y el cuidado personal. Además, se buscará encontrar el comportamiento de las nuevas personas, que se encuentren en situación similar a alguna que ya existe en el negocio. </p>\n",
    "    \n",
    "### 1.2 Objetivos:\n",
    "> #### 1.2.1 Objetivo General:\n",
    "> <p style = \"font-family: Calibri Light; font-size:1.3em;color:black;\"> Analizar el comportamiento y compra de producto de los nuevos distribuidores en sus siguientes tres meses en base al comportamiento de los distribuidores ya existentes. </p>\n",
    ">\n",
    "> #### 1.2.2 Objetivos específicos:\n",
    ">\n",
    "> <p style = \"font-family: Calibri Light; font-size:1.3em;color:black;\">  * De acuerdo a cada país, realizar una comparación de su productividad total. </p>\n",
    "> <p style = \"font-family: Calibri Light; font-size:1.3em;color:black;\"> * Separar el volumen total de acuerdo al género del distribuidor.</p>\n",
    "> <p style = \"font-family: Calibri Light; font-size:1.3em;color:black;\"> * Analizar las diferencias de comportamiento de acuerdo a la edad del distribuidor.</p>\n",
    "> <p style = \"font-family: Calibri Light; font-size:1.3em;color:black;\"> * Dependiendo de su equipo, examinar las compras de los distribuidores. </p>"
   ]
  },
  {
   "cell_type": "markdown",
   "metadata": {},
   "source": [
    "### 1.3 Definición del problema\n",
    "\n",
    "<p style = \"font-family: Calibri Light; font-size:1.3em; color:black; text-align: justify\">  Para meterlos un poco en contexto, Herbalife es una compañía de venta directa establecida a nivel global, proporcionan productos innovadores nutricionales con respaldo científico. Actualmente cubren clientes en alrededor de 90 países. Ofrecen también una oportunidad de negocio individual. El problema principal que tiene esta empresa Herbalife es que no tienen idea de como se van a comportar sus ventas en un futuro. Sus ventas son tan volátiles y abarcan tanto mercado en el mundo, que no han logrado definir en que país se vende más, o cual es el perfil de vendedor ideal para poderse enfocar más en ellos. Cuando investigamos sobre esta empresa multinivel nos dimos cuenta que querían aumentar sus ventas en línea impulsando el e-commerce e invirtiendo en las redes sociales. Concluimos que para hacer esto, la empresa tiene que tener muy definido su nicho de mercado y sus países líderes para no querer acaparar al mundo entero. Si Herbalife quiere invertir en el e-commerce nosotros les podremos ayudar a modelar sus ganancias para ver cuanto dinero podrían invertir en esta área, así como en otras. \n",
    "    \n",
    "<p style = \"font-family: Calibri Light; font-size:1.3em; color:black; text-align: justify\"> Otro problema que tiene Herbalife es que no saben cual es el comportamiento de un nuevo vendedor a la hora de entrar como distribuidor. Con esta simulación podremos combatir este problema informando a la empresa el comportamiento de sus distribuidores a lo largo de tres meses y como varía este comportamiento dependiendo en el país donde habiten."
   ]
  },
  {
   "cell_type": "markdown",
   "metadata": {},
   "source": [
    "### 1.4 Nodos y Variables a simular\n",
    "\n",
    "<p style = \"font-family: Calibri Light; font-size:1.2em;color:black;\"> Dentro de nuestra base de datos, encontramos 4 nodos a simular:\n",
    "    \n",
    "    * La edad del distribuidor\n",
    "    * El género del distribuidor\n",
    "    * El equipo del distribuidor\n",
    "    * El país del distribuidor\n",
    "    * Los puntos de compra del distribuidor\n",
    "    \n",
    "    \n",
    "![](Diagrama_nodos.png)"
   ]
  },
  {
   "cell_type": "markdown",
   "metadata": {},
   "source": [
    "### 1.6 Obtención de la base de datos"
   ]
  },
  {
   "cell_type": "code",
   "execution_count": 4,
   "metadata": {
    "ExecuteTime": {
     "end_time": "2020-03-24T19:27:36.863946Z",
     "start_time": "2020-03-24T19:27:33.901932Z"
    }
   },
   "outputs": [
    {
     "data": {
      "text/html": [
       "<div>\n",
       "<style scoped>\n",
       "    .dataframe tbody tr th:only-of-type {\n",
       "        vertical-align: middle;\n",
       "    }\n",
       "\n",
       "    .dataframe tbody tr th {\n",
       "        vertical-align: top;\n",
       "    }\n",
       "\n",
       "    .dataframe thead th {\n",
       "        text-align: right;\n",
       "    }\n",
       "</style>\n",
       "<table border=\"1\" class=\"dataframe\">\n",
       "  <thead>\n",
       "    <tr style=\"text-align: right;\">\n",
       "      <th></th>\n",
       "      <th>Distributor</th>\n",
       "      <th>Age</th>\n",
       "      <th>Gender</th>\n",
       "      <th>Country</th>\n",
       "      <th>Team</th>\n",
       "      <th>2018-10-01 00:00:00</th>\n",
       "      <th>2018-11-01 00:00:00</th>\n",
       "      <th>2018-12-01 00:00:00</th>\n",
       "    </tr>\n",
       "  </thead>\n",
       "  <tbody>\n",
       "    <tr>\n",
       "      <td>0</td>\n",
       "      <td>1</td>\n",
       "      <td>53</td>\n",
       "      <td>Male</td>\n",
       "      <td>Jamaica</td>\n",
       "      <td>PT</td>\n",
       "      <td>3009.62</td>\n",
       "      <td>3008.97</td>\n",
       "      <td>3011.50</td>\n",
       "    </tr>\n",
       "    <tr>\n",
       "      <td>1</td>\n",
       "      <td>2</td>\n",
       "      <td>63</td>\n",
       "      <td>Female</td>\n",
       "      <td>Canada</td>\n",
       "      <td>PT</td>\n",
       "      <td>9074.20</td>\n",
       "      <td>10069.50</td>\n",
       "      <td>5252.84</td>\n",
       "    </tr>\n",
       "    <tr>\n",
       "      <td>2</td>\n",
       "      <td>3</td>\n",
       "      <td>60</td>\n",
       "      <td>Female</td>\n",
       "      <td>Canada</td>\n",
       "      <td>PT</td>\n",
       "      <td>6849.17</td>\n",
       "      <td>8358.40</td>\n",
       "      <td>11171.80</td>\n",
       "    </tr>\n",
       "    <tr>\n",
       "      <td>3</td>\n",
       "      <td>4</td>\n",
       "      <td>68</td>\n",
       "      <td>Male</td>\n",
       "      <td>Canada</td>\n",
       "      <td>MT</td>\n",
       "      <td>3029.77</td>\n",
       "      <td>2679.03</td>\n",
       "      <td>2519.80</td>\n",
       "    </tr>\n",
       "    <tr>\n",
       "      <td>4</td>\n",
       "      <td>5</td>\n",
       "      <td>68</td>\n",
       "      <td>Female</td>\n",
       "      <td>Canada</td>\n",
       "      <td>MT</td>\n",
       "      <td>2505.15</td>\n",
       "      <td>2506.15</td>\n",
       "      <td>2502.25</td>\n",
       "    </tr>\n",
       "  </tbody>\n",
       "</table>\n",
       "</div>"
      ],
      "text/plain": [
       "   Distributor  Age  Gender  Country Team  2018-10-01 00:00:00  \\\n",
       "0            1   53    Male  Jamaica   PT              3009.62   \n",
       "1            2   63  Female   Canada   PT              9074.20   \n",
       "2            3   60  Female   Canada   PT              6849.17   \n",
       "3            4   68    Male   Canada   MT              3029.77   \n",
       "4            5   68  Female   Canada   MT              2505.15   \n",
       "\n",
       "   2018-11-01 00:00:00  2018-12-01 00:00:00  \n",
       "0              3008.97              3011.50  \n",
       "1             10069.50              5252.84  \n",
       "2              8358.40             11171.80  \n",
       "3              2679.03              2519.80  \n",
       "4              2506.15              2502.25  "
      ]
     },
     "execution_count": 4,
     "metadata": {},
     "output_type": "execute_result"
    }
   ],
   "source": [
    "import pandas as pd\n",
    "\n",
    "DB = pd.read_excel(\"Base de Datos.xlsx\")\n",
    "\n",
    "DB.head()"
   ]
  }
 ],
 "metadata": {
  "kernelspec": {
   "display_name": "Python 3",
   "language": "python",
   "name": "python3"
  },
  "language_info": {
   "codemirror_mode": {
    "name": "ipython",
    "version": 3
   },
   "file_extension": ".py",
   "mimetype": "text/x-python",
   "name": "python",
   "nbconvert_exporter": "python",
   "pygments_lexer": "ipython3",
   "version": "3.7.4"
  }
 },
 "nbformat": 4,
 "nbformat_minor": 2
}
